{
 "cells": [
  {
   "cell_type": "markdown",
   "id": "8373ab4e",
   "metadata": {},
   "source": [
    "# General rules\n",
    "1. Ask any questions anytime\n",
    "2. It's fine to search for library usage\n",
    "3. It's fine to skip a question"
   ]
  },
  {
   "cell_type": "markdown",
   "id": "b56c66f4",
   "metadata": {},
   "source": [
    "# Part 1. Tiny case study"
   ]
  },
  {
   "cell_type": "code",
   "execution_count": 1,
   "id": "e9b79e4e",
   "metadata": {},
   "outputs": [
    {
     "name": "stdout",
     "output_type": "stream",
     "text": [
      "number of occurrence: [178 182 177 183 181 182 181 179 174 180]\n"
     ]
    },
    {
     "data": {
      "image/png": "[encoded data removed]",
      "text/plain": [
       "<Figure size 432x288 with 10 Axes>"
      ]
     },
     "metadata": {
      "needs_background": "light"
     },
     "output_type": "display_data"
    }
   ],
   "source": [
    "import numpy as np\n",
    "from sklearn.datasets import load_digits\n",
    "from matplotlib import pyplot as plt\n",
    "\n",
    "\n",
    "x, y = load_digits(return_X_y=True)\n",
    "print('number of occurrence:', np.bincount(y))\n",
    "\n",
    "_, axarr = plt.subplots(1, 10)\n",
    "for i in range(10):\n",
    "    axarr[i].imshow(x[i].reshape(8, 8), cmap='gray')\n",
    "    axarr[i].set_title(y[i])\n",
    "    axarr[i].axis('off')\n",
    "\n",
    "# 50/50 train/test split\n",
    "x_train = x[::2]\n",
    "x_test = x[1::2]\n",
    "y_train = y[::2]\n",
    "y_test = y[1::2]"
   ]
  },
  {
   "cell_type": "code",
   "execution_count": 2,
   "id": "db25f839",
   "metadata": {},
   "outputs": [],
   "source": [
    "from sklearn.svm import SVC\n",
    "\n",
    "\n",
    "# train a classifier\n",
    "cls = SVC()\n",
    "cls.fit(x_train, y_train)\n",
    "y_pred = cls.predict(x_test)"
   ]
  },
  {
   "cell_type": "markdown",
   "id": "06eb7771",
   "metadata": {},
   "source": [
    "## Question 1: What is the probability that this classifier predicts samples in the test set correctly?\n",
    "To be more specific, compute the value #correct predictions / #total predictions based on y_pred and y_test."
   ]
  },
  {
   "cell_type": "code",
   "execution_count": 3,
   "id": "926be2f2",
   "metadata": {},
   "outputs": [],
   "source": [
    "# 1"
   ]
  },
  {
   "cell_type": "markdown",
   "id": "5c607f50",
   "metadata": {},
   "source": [
    "## Question 2: Which digit is most likely to be misclassified? Besides reporting that digit, can you also try convincing us through an appropriate visualization?\n",
    "For visualization, you can search for the usage of matplotlib if you're not familiar with it."
   ]
  },
  {
   "cell_type": "code",
   "execution_count": 4,
   "id": "588e102d",
   "metadata": {},
   "outputs": [],
   "source": [
    "# 2"
   ]
  },
  {
   "cell_type": "code",
   "execution_count": 5,
   "id": "dfd8b33f",
   "metadata": {},
   "outputs": [],
   "source": [
    "from sklearn.metrics import f1_score\n",
    "import pandas as pd\n",
    "\n",
    "\n",
    "# SVC has a few hyperparameters. Here we try optimizing C and kernel through a grid search.\n",
    "results = list()\n",
    "for C in [0.1, 1, 10]:\n",
    "    for kernel in ['linear', 'poly', 'rbf']:\n",
    "        cls = SVC(C=C, kernel=kernel)\n",
    "        y_pred = cls.fit(x_train, y_train).predict(x_test)\n",
    "        results.append({\n",
    "            'C': C,\n",
    "            'kernel': kernel,\n",
    "            'f1': f1_score(y_test, y_pred, average='macro')\n",
    "        })\n",
    "\n",
    "df = pd.DataFrame(results)"
   ]
  },
  {
   "cell_type": "markdown",
   "id": "d61852f6",
   "metadata": {},
   "source": [
    "## Question 3: What C and kernel lead to the best F1 score?\n",
    "Process 'results' directly if you're not familiar with Pandas."
   ]
  },
  {
   "cell_type": "code",
   "execution_count": 6,
   "id": "4fbea213",
   "metadata": {},
   "outputs": [],
   "source": [
    "# 3"
   ]
  }
 ],
 "metadata": {
  "kernelspec": {
   "display_name": "Python 3 (ipykernel)",
   "language": "python",
   "name": "python3"
  },
  "language_info": {
   "codemirror_mode": {
    "name": "ipython",
    "version": 3
   },
   "file_extension": ".py",
   "mimetype": "text/x-python",
   "name": "python",
   "nbconvert_exporter": "python",
   "pygments_lexer": "ipython3",
   "version": "3.9.5"
  }
 },
 "nbformat": 4,
 "nbformat_minor": 5
}
