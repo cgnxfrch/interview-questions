{
 "cells": [
  {
   "cell_type": "markdown",
   "id": "b32553b4",
   "metadata": {},
   "source": [
    "# Problem solving: part 2"
   ]
  },
  {
   "cell_type": "markdown",
   "id": "3287e553",
   "metadata": {},
   "source": [
    "* What do you think of this solution?\n",
    "* Is it correct, optimal?\n",
    "* What is the complexity?\n",
    "* What is the memory cost?\n",
    "* Do you think you can improve it?"
   ]
  },
  {
   "cell_type": "code",
   "execution_count": 1,
   "id": "b72ad968",
   "metadata": {},
   "outputs": [],
   "source": [
    "def max_product_of_three(values = []):\n",
    "\n",
    "    size = len(values)\n",
    "    \n",
    "    if size < 3:\n",
    "        return 0\n",
    "\n",
    "    solution = values[0] * values[1] * values[2]\n",
    "    \n",
    "    if size == 3:\n",
    "        return solution\n",
    "    \n",
    "    for i in range(size):\n",
    "        for j in range(i+1, size):\n",
    "            for k in range(j+1, size):\n",
    "                x = values[i] * values[j] * values[k]\n",
    "                if x > solution:\n",
    "                    solution = x\n",
    "    return solution"
   ]
  },
  {
   "cell_type": "code",
   "execution_count": 2,
   "id": "martial-provider",
   "metadata": {},
   "outputs": [
    {
     "data": {
      "text/plain": [
       "6"
      ]
     },
     "execution_count": 2,
     "metadata": {},
     "output_type": "execute_result"
    }
   ],
   "source": [
    "test_case = [1,2,3]\n",
    "max_product_of_three(test_case)"
   ]
  }
 ],
 "metadata": {
  "kernelspec": {
   "display_name": "Python 3",
   "language": "python",
   "name": "python3"
  },
  "language_info": {
   "codemirror_mode": {
    "name": "ipython",
    "version": 3
   },
   "file_extension": ".py",
   "mimetype": "text/x-python",
   "name": "python",
   "nbconvert_exporter": "python",
   "pygments_lexer": "ipython3",
   "version": "3.7.10"
  }
 },
 "nbformat": 4,
 "nbformat_minor": 5
}
