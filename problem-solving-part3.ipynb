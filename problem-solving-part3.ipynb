{
 "cells": [
  {
   "cell_type": "markdown",
   "id": "b32553b4",
   "metadata": {},
   "source": [
    "# Problem solving: part 3"
   ]
  },
  {
   "cell_type": "markdown",
   "id": "972e745d",
   "metadata": {},
   "source": [
    "* What do you think of this solution?\n",
    "* Is it correct?\n",
    "* What is the new complexity?\n",
    "* Is the memory footprint worse or better?"
   ]
  },
  {
   "cell_type": "code",
   "execution_count": 1,
   "id": "1f9d3a59",
   "metadata": {},
   "outputs": [],
   "source": [
    "def max_product_of_three(values = []):\n",
    "    size = len(values)\n",
    "    \n",
    "    if size < 3:\n",
    "        return 0\n",
    "    \n",
    "    if size == 3:\n",
    "        return values[0] * values[1] * values[2]\n",
    "    \n",
    "    v = sorted(values, reverse=True)\n",
    "\n",
    "    return max(v[0] * v[1] * v[2], v[0] * v[-1] * v[-2])"
   ]
  },
  {
   "cell_type": "code",
   "execution_count": 2,
   "id": "mounted-testing",
   "metadata": {
    "scrolled": false
   },
   "outputs": [
    {
     "data": {
      "text/plain": [
       "6"
      ]
     },
     "execution_count": 2,
     "metadata": {},
     "output_type": "execute_result"
    }
   ],
   "source": [
    "test_case = [1,2,3]\n",
    "max_product_of_three(test_case)"
   ]
  }
 ],
 "metadata": {
  "kernelspec": {
   "display_name": "Python 3",
   "language": "python",
   "name": "python3"
  },
  "language_info": {
   "codemirror_mode": {
    "name": "ipython",
    "version": 3
   },
   "file_extension": ".py",
   "mimetype": "text/x-python",
   "name": "python",
   "nbconvert_exporter": "python",
   "pygments_lexer": "ipython3",
   "version": "3.7.10"
  }
 },
 "nbformat": 4,
 "nbformat_minor": 5
}
