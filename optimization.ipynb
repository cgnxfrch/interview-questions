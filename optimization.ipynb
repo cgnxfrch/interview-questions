{
 "cells": [
  {
   "cell_type": "markdown",
   "id": "55173017",
   "metadata": {},
   "source": [
    "# General rules\n",
    "1. Ask any questions anytime\n",
    "2. It's fine to search for library usage\n",
    "3. It's fine to skip a question"
   ]
  },
  {
   "cell_type": "markdown",
   "id": "75928e94",
   "metadata": {},
   "source": [
    "# Part 3: Optimization"
   ]
  },
  {
   "cell_type": "markdown",
   "id": "51a1db29",
   "metadata": {},
   "source": [
    "## Question 1: Can we accelerate the loop below?"
   ]
  },
  {
   "cell_type": "code",
   "execution_count": 1,
   "id": "14c20e62",
   "metadata": {},
   "outputs": [
    {
     "name": "stdout",
     "output_type": "stream",
     "text": [
      "2.145371936261654\n"
     ]
    }
   ],
   "source": [
    "import numpy as np\n",
    "from timeit import default_timer\n",
    "\n",
    "\n",
    "def f(x):\n",
    "    return np.sqrt(x * 2)\n",
    "\n",
    "\n",
    "COUNT = 30000\n",
    "begin = default_timer()\n",
    "result = tuple()\n",
    "for i in range(COUNT):\n",
    "    result += (f(i),)\n",
    "print(default_timer() - begin)"
   ]
  },
  {
   "cell_type": "code",
   "execution_count": 2,
   "id": "23a890fa",
   "metadata": {},
   "outputs": [],
   "source": [
    "# 1"
   ]
  },
  {
   "cell_type": "markdown",
   "id": "39388a7f",
   "metadata": {},
   "source": [
    "## Question 2: Let's say we are solving many optimization problems that are independent of each other. Can you make it more efficient?"
   ]
  },
  {
   "cell_type": "code",
   "execution_count": 3,
   "id": "b0fd34d5",
   "metadata": {},
   "outputs": [
    {
     "name": "stdout",
     "output_type": "stream",
     "text": [
      "3.942538789473474\n"
     ]
    }
   ],
   "source": [
    "from threading import Thread\n",
    "from functools import partial\n",
    "from scipy.optimize import minimize, rosen\n",
    "\n",
    "\n",
    "def f(x):\n",
    "    res = minimize(rosen, x)\n",
    "    return res.x\n",
    "\n",
    "COUNT = 200\n",
    "arr = np.random.uniform(size=(COUNT, 5))\n",
    "\n",
    "start = default_timer()\n",
    "result = [f(a) for a in arr]\n",
    "print(default_timer() - start)"
   ]
  },
  {
   "cell_type": "code",
   "execution_count": 4,
   "id": "70e88cc7",
   "metadata": {},
   "outputs": [],
   "source": [
    "# 2"
   ]
  }
 ],
 "metadata": {
  "kernelspec": {
   "display_name": "Python 3 (ipykernel)",
   "language": "python",
   "name": "python3"
  },
  "language_info": {
   "codemirror_mode": {
    "name": "ipython",
    "version": 3
   },
   "file_extension": ".py",
   "mimetype": "text/x-python",
   "name": "python",
   "nbconvert_exporter": "python",
   "pygments_lexer": "ipython3",
   "version": "3.9.5"
  }
 },
 "nbformat": 4,
 "nbformat_minor": 5
}
